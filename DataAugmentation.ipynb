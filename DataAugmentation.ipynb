{
 "cells": [
  {
   "cell_type": "code",
   "execution_count": 1,
   "metadata": {},
   "outputs": [
    {
     "name": "stdout",
     "output_type": "stream",
     "text": [
      "Requirement already satisfied: Augmentor in c:\\users\\dell\\anaconda3\\lib\\site-packages (0.2.3)\n",
      "Requirement already satisfied: future>=0.16.0 in c:\\users\\dell\\anaconda3\\lib\\site-packages (from Augmentor) (0.17.1)\n",
      "Requirement already satisfied: tqdm>=4.9.0 in c:\\users\\dell\\anaconda3\\lib\\site-packages (from Augmentor) (4.28.1)\n",
      "Requirement already satisfied: numpy>=1.11.0 in c:\\users\\dell\\anaconda3\\lib\\site-packages (from Augmentor) (1.15.4)\n",
      "Requirement already satisfied: Pillow>=4.0.0 in c:\\users\\dell\\anaconda3\\lib\\site-packages (from Augmentor) (5.2.0)\n"
     ]
    }
   ],
   "source": [
    "!pip install Augmentor"
   ]
  },
  {
   "cell_type": "code",
   "execution_count": 8,
   "metadata": {},
   "outputs": [
    {
     "name": "stdout",
     "output_type": "stream",
     "text": [
      "Initialised with 44 image(s) found.\n",
      "Output directory set to Real-500\\output."
     ]
    }
   ],
   "source": [
    "import Augmentor\n",
    "p1 = Augmentor.Pipeline(\"Real-500\") #Name the Image file\n"
   ]
  },
  {
   "cell_type": "code",
   "execution_count": 9,
   "metadata": {},
   "outputs": [
    {
     "name": "stderr",
     "output_type": "stream",
     "text": [
      "Processing <PIL.Image.Image image mode=RGB size=2607x5344 at 0x1FB8C798F60>: 100%|█| 44/44 [00:04<00:00,  3.51 Samples/s]                  \n"
     ]
    }
   ],
   "source": [
    "#p1.rotate(probability=1, max_left_rotation=25, max_right_rotation=25)\n",
    "#p1.zoom(probability=1, min_factor=1.1, max_factor=1.5)\n",
    "#p1.skew_tilt(probability=1)\n",
    "#p1.random_distortion(probability=1, grid_width=4, grid_height=4, magnitude=8)\n",
    "#p1.rotate90(probability=1)\n",
    "p1.rotate270(probability=0.5)\n",
    "#p1.flip_left_right(probability=1)\n",
    "#p1.flip_top_bottom(probability=1)\n",
    "#p1.resize(probability=1.0, width=224, height=224)\n",
    "#p1.sample(0)\n",
    "p1.process()"
   ]
  },
  {
   "cell_type": "code",
   "execution_count": null,
   "metadata": {},
   "outputs": [],
   "source": []
  },
  {
   "cell_type": "code",
   "execution_count": null,
   "metadata": {},
   "outputs": [],
   "source": []
  }
 ],
 "metadata": {
  "kernelspec": {
   "display_name": "Python 3",
   "language": "python",
   "name": "python3"
  },
  "language_info": {
   "codemirror_mode": {
    "name": "ipython",
    "version": 3
   },
   "file_extension": ".py",
   "mimetype": "text/x-python",
   "name": "python",
   "nbconvert_exporter": "python",
   "pygments_lexer": "ipython3",
   "version": "3.6.7"
  }
 },
 "nbformat": 4,
 "nbformat_minor": 2
}
